{
 "cells": [
  {
   "cell_type": "code",
   "execution_count": 1,
   "metadata": {},
   "outputs": [],
   "source": [
    "#-*- coding: utf-8 -*\n",
    "\n",
    "import numpy as np\n",
    "import pandas as pd\n",
    "import matplotlib.pyplot as plt"
   ]
  },
  {
   "cell_type": "markdown",
   "metadata": {},
   "source": [
    "# Data Cust"
   ]
  },
  {
   "cell_type": "code",
   "execution_count": 2,
   "metadata": {},
   "outputs": [],
   "source": [
    "data_cust = pd.read_csv(\"customers.csv\", encoding='utf-8')"
   ]
  },
  {
   "cell_type": "code",
   "execution_count": 3,
   "metadata": {},
   "outputs": [
    {
     "name": "stdout",
     "output_type": "stream",
     "text": [
      "Aucune valeur manquante\n"
     ]
    }
   ],
   "source": [
    "#Voyons d'abord s'il y a des valeurs manquantes pour les transactions : \n",
    "\n",
    "#On utilise .any().any() pour savoir si le Df possède une valeur manquante (n'importe laquelle)\n",
    "#En utilisant un seul any() on a un résultat par colonne (donc plus précis)\n",
    "#Comme ici on cherche juste à savoir si une valeur est manquante, pas besoin de précision\n",
    "#Sauf si effectivement une valeur manque, dans ce cas lancer des tests plus approfondies pour trouver laquelle\n",
    "\n",
    "if data_cust.isnull().any().any() == False : \n",
    "    print(\"Aucune valeur manquante\")\n",
    "else : \n",
    "    print(\"Des valeurs sont manquantes\")"
   ]
  },
  {
   "cell_type": "markdown",
   "metadata": {},
   "source": [
    "## Valeur de la colonne 'sex'"
   ]
  },
  {
   "cell_type": "code",
   "execution_count": 4,
   "metadata": {},
   "outputs": [
    {
     "name": "stdout",
     "output_type": "stream",
     "text": [
      "Pas d'autres valeurs que celles de la liste\n"
     ]
    }
   ],
   "source": [
    "#On crée une liste que l'on pourra modifier si une valeur est ajoutée pour la colonne \"sex\"\n",
    "sex = [\"m\", \"f\"]\n",
    "\n",
    "#On test ensuite si chaque valeur de la colonne est bien dans la liste, si oui alors 1, si non alors 0 : \n",
    "result = []\n",
    "\n",
    "for ligne in data_cust[\"sex\"].iteritems():\n",
    "    if ligne[1] in sex :\n",
    "        data = 0\n",
    "    else : \n",
    "        data = 1\n",
    "    result.append(data)\n",
    "result = sum(result)\n",
    "\n",
    "if result == 0 :\n",
    "    print(\"Pas d'autres valeurs que celles de la liste\")\n",
    "else : \n",
    "    print(\"Il y a d'autres valeurs que celles de la liste, {} erreurs au total\".format(result))\n",
    "    \n",
    "#Ca ne fonctionne pas..."
   ]
  },
  {
   "cell_type": "markdown",
   "metadata": {},
   "source": [
    "## Client_ID"
   ]
  },
  {
   "cell_type": "code",
   "execution_count": 5,
   "metadata": {},
   "outputs": [
    {
     "name": "stdout",
     "output_type": "stream",
     "text": [
      "le nombre de lignes est de 8623\n",
      "Sans doublons, le nombre de lignes est de 8623\n",
      "Pas de doublon\n"
     ]
    }
   ],
   "source": [
    "#Vérifions qu'il n'y a pas de doublon pour Client_id : \n",
    "data_cust_id = data_cust['client_id']\n",
    "X = 0\n",
    "for ligne in data_cust_id.iteritems():\n",
    "    X += 1\n",
    "print('le nombre de lignes est de {}'.format(X))\n",
    "    \n",
    "data_cust_id.drop_duplicates()\n",
    "\n",
    "Y = 0\n",
    "for ligne in data_cust_id.iteritems():\n",
    "    Y += 1\n",
    "print('Sans doublons, le nombre de lignes est de {}'.format(Y))\n",
    "\n",
    "if X == Y:\n",
    "    print('Pas de doublon')\n",
    "else:\n",
    "    print('Des doublons sont présents')"
   ]
  },
  {
   "cell_type": "markdown",
   "metadata": {},
   "source": [
    "## Date de naissance"
   ]
  },
  {
   "cell_type": "code",
   "execution_count": 6,
   "metadata": {},
   "outputs": [
    {
     "name": "stdout",
     "output_type": "stream",
     "text": [
      "le client le plus jeune est né en :  2004\n",
      "le client le plus vieux est né en :  1929\n",
      "Le minimum et le maximum des dates ne sont pas aberrant\n"
     ]
    }
   ],
   "source": [
    "#Voyons tout d'abord si il n'y a pas de valeurs abérantes dans les dates de naissance : \n",
    "\n",
    "print('le client le plus jeune est né en : ', data_cust['birth'].max())\n",
    "print('le client le plus vieux est né en : ',data_cust['birth'].min())\n",
    "\n",
    "#On cherche ici à afficher un message d'erreur si les clients ont plus de 10 ans et moins de 95 ans. \n",
    "if data_cust['birth'].max() < 2005 and data_cust['birth'].min() > 1926 :\n",
    "    print(\"Le minimum et le maximum des dates ne sont pas aberrant\")\n",
    "elif data_cust['birth'].max() > 2005 and data_cust['birth'].min() > 1926 : \n",
    "    print('Un ou plusieurs clients sont âgés de moins de 10 ans, vérifier la/les valeur(s) ! ')\n",
    "elif data_cust['birth'].max() < 2005 and data_cust['birth'].min() < 1926 : \n",
    "    print('Un ou plusieurs clients sont âgés de plus de 95 ans, vérifier la/les valeur(s) ! ')\n",
    "else : \n",
    "    print('Un ou plusieurs clients sont âgés de plus de 95 ans et de moins de 10 ans, vérifier les valeurs !')"
   ]
  },
  {
   "cell_type": "code",
   "execution_count": 7,
   "metadata": {},
   "outputs": [
    {
     "name": "stdout",
     "output_type": "stream",
     "text": [
      "Empty DataFrame\n",
      "Columns: [client_id, sex, birth]\n",
      "Index: []\n",
      "Le DataFrame étant vite, pas de valeur manquante\n"
     ]
    }
   ],
   "source": [
    "#Voyons ensuite si il manque des dates : \n",
    "#Fait doublon avec le premier test, mais mieux vaut trop que pas assez\n",
    "\n",
    "data_manquantes = data_cust[data_cust['birth'] == pd.NaT]\n",
    "print(data_manquantes)\n",
    "print(\"Le DataFrame étant vite, pas de valeur manquante\")\n",
    "\n",
    "#Aucune valeur manquante pour les dates"
   ]
  },
  {
   "cell_type": "code",
   "execution_count": 8,
   "metadata": {},
   "outputs": [],
   "source": [
    "#Rajoutons ensuite une colonne \"age\", qui nous servira dans l'analyse : \n",
    "data_cust[\"age\"] = 2022 - data_cust[\"birth\"]\n",
    "\n",
    "#Probleme si une personne née en mars alors 1 an de moins que le résultat de ce calcul"
   ]
  },
  {
   "cell_type": "markdown",
   "metadata": {},
   "source": [
    "# Data Prod"
   ]
  },
  {
   "cell_type": "code",
   "execution_count": 9,
   "metadata": {},
   "outputs": [],
   "source": [
    "data_prod = pd.read_csv(\"products.csv\", encoding='utf-8')"
   ]
  },
  {
   "cell_type": "code",
   "execution_count": 10,
   "metadata": {},
   "outputs": [
    {
     "name": "stdout",
     "output_type": "stream",
     "text": [
      "Aucune valeur manquante\n"
     ]
    }
   ],
   "source": [
    "#Voyons d'abord s'il y a des valeurs manquantes pour les produits : \n",
    "\n",
    "if data_prod.isnull().any().any() == False : \n",
    "    print(\"Aucune valeur manquante\")\n",
    "else : \n",
    "    print(\"Des valeurs sont manquantes\")"
   ]
  },
  {
   "cell_type": "markdown",
   "metadata": {},
   "source": [
    "## Price"
   ]
  },
  {
   "cell_type": "code",
   "execution_count": 11,
   "metadata": {},
   "outputs": [
    {
     "name": "stdout",
     "output_type": "stream",
     "text": [
      "Une ou plusieur valeur(s) aberrante(s)\n"
     ]
    }
   ],
   "source": [
    "#Recherche de prix aberrants (= ou < à zéro):\n",
    "if data_prod[data_prod.price <= 0].any().any() == False : \n",
    "    print(\"Aucune valeur abberante\")\n",
    "else : \n",
    "    print(\"Une ou plusieur valeur(s) aberrante(s)\")\n",
    "    "
   ]
  },
  {
   "cell_type": "code",
   "execution_count": 12,
   "metadata": {},
   "outputs": [
    {
     "name": "stdout",
     "output_type": "stream",
     "text": [
      "    id_prod  price  categ\n",
      "731     T_0   -1.0      0\n",
      "Une valeur est donc aberrante, puisque inférieure ou égale à zéro\n"
     ]
    }
   ],
   "source": [
    "#Cherchons à savoir la valeur du prix = ou < à zéro\n",
    "\n",
    "print(data_prod[data_prod.price <= 0])\n",
    "print('Une valeur est donc aberrante, puisque inférieure ou égale à zéro')"
   ]
  },
  {
   "cell_type": "markdown",
   "metadata": {},
   "source": [
    "### Traitement de la valeur abberante"
   ]
  },
  {
   "cell_type": "code",
   "execution_count": 13,
   "metadata": {},
   "outputs": [],
   "source": [
    "#On remarque que cette valeur est dans la catégorie 0, mais aussi qu'elle a comme id_prod T_0\n",
    "#La particularité de T_0 est que c'est un ID de test, que l'on verra dans les parties suivantes.\n",
    "#On peut donc supprimer tout simplement cette valeur, qui ne correspond pas à une vente mais à un test.\n",
    "\n",
    "data_prod = data_prod[data_prod['price'] > 0]"
   ]
  },
  {
   "cell_type": "markdown",
   "metadata": {},
   "source": [
    "## Catégories de produits"
   ]
  },
  {
   "cell_type": "code",
   "execution_count": 14,
   "metadata": {},
   "outputs": [
    {
     "name": "stdout",
     "output_type": "stream",
     "text": [
      "Pas d'autres catégories que celles de la liste\n"
     ]
    }
   ],
   "source": [
    "#Tout d'abord, on définit une liste de toutes les catégories possibles : \n",
    "\n",
    "categories = [0, 1, 2]\n",
    "\n",
    "#On test ensuite si chacune des valeurs de la colonne categ est bien présente dans la liste : \n",
    "\n",
    "result = []\n",
    "\n",
    "for categ in data_prod['categ'].iteritems():\n",
    "    if categ[1] in categories:\n",
    "        data = 0\n",
    "    else:\n",
    "        data = 1\n",
    "    result.append(data)\n",
    "result = sum(result)\n",
    "\n",
    "if result == 0:\n",
    "    print(\"Pas d'autres catégories que celles de la liste\")\n",
    "else :\n",
    "    print(\"D'autres catégories que celles de la liste, {} erreurs\".format(result))"
   ]
  },
  {
   "cell_type": "markdown",
   "metadata": {},
   "source": [
    "# Data Transac"
   ]
  },
  {
   "cell_type": "code",
   "execution_count": 15,
   "metadata": {},
   "outputs": [],
   "source": [
    "data_transac = pd.read_csv(\"transactions.csv\", encoding='utf-8')"
   ]
  },
  {
   "cell_type": "markdown",
   "metadata": {},
   "source": [
    "## Valeurs manquantes"
   ]
  },
  {
   "cell_type": "code",
   "execution_count": 16,
   "metadata": {},
   "outputs": [
    {
     "name": "stdout",
     "output_type": "stream",
     "text": [
      "Aucune valeur manquante\n"
     ]
    }
   ],
   "source": [
    "#Voyons d'abord s'il y a des valeurs manquantes pour les transactions : \n",
    "\n",
    "if data_transac.isnull().any().any() == False : \n",
    "    print(\"Aucune valeur manquante\")\n",
    "else : \n",
    "    print(\"Des valeurs sont manquantes\")"
   ]
  },
  {
   "cell_type": "markdown",
   "metadata": {},
   "source": [
    "## Valeurs en double"
   ]
  },
  {
   "cell_type": "code",
   "execution_count": 17,
   "metadata": {},
   "outputs": [
    {
     "name": "stdout",
     "output_type": "stream",
     "text": [
      "Pas de doublon pour client_id\n",
      "\n",
      "\n",
      "Pas de doublon pour session_id\n",
      "\n",
      "\n",
      "Pas de doublon pour id_prod\n"
     ]
    }
   ],
   "source": [
    "#D'abord, on vérifie s'il y a des doublons dans client_id : \n",
    "data_client_id = data_transac['client_id']\n",
    "A = 0\n",
    "for ligne in data_client_id.iteritems():\n",
    "    A += 1\n",
    "    \n",
    "data_client_id.drop_duplicates\n",
    "\n",
    "B = 0\n",
    "for ligne in data_client_id.iteritems():\n",
    "    B += 1\n",
    "    \n",
    "if A == B :\n",
    "    print('Pas de doublon pour client_id')\n",
    "else :\n",
    "    print('Attention il y a des doublons pour client_id !')\n",
    "\n",
    "print('\\n')\n",
    "#Puis dans session_id : \n",
    "\n",
    "data_session_id = data_transac['session_id']\n",
    "C = 0\n",
    "for ligne in data_session_id.iteritems():\n",
    "    C += 1\n",
    "    \n",
    "data_session_id.drop_duplicates\n",
    "\n",
    "D = 0\n",
    "for ligne in data_session_id.iteritems():\n",
    "    D += 1\n",
    "    \n",
    "if C == D :\n",
    "    print('Pas de doublon pour session_id')\n",
    "else :\n",
    "    print('Attention il y a des doublons pour session_id !')\n",
    "\n",
    "print('\\n')\n",
    "#Puis dans id_prod : \n",
    "\n",
    "data_prod_id = data_transac['id_prod']\n",
    "E = 0\n",
    "for ligne in data_prod_id.iteritems():\n",
    "    E += 1\n",
    "    \n",
    "data_prod_id.drop_duplicates\n",
    "\n",
    "F = 0\n",
    "for ligne in data_prod_id.iteritems():\n",
    "    F += 1\n",
    "    \n",
    "if E == F :\n",
    "    print('Pas de doublon pour id_prod')\n",
    "else :\n",
    "    print('Attention il y a des doublons pour id_prod !')\n",
    "    \n",
    "#Revoir ce point : Faire sur le Df et non sur des colonnes."
   ]
  },
  {
   "cell_type": "markdown",
   "metadata": {},
   "source": [
    "## Dates"
   ]
  },
  {
   "cell_type": "code",
   "execution_count": 18,
   "metadata": {},
   "outputs": [],
   "source": [
    "from datetime import datetime"
   ]
  },
  {
   "cell_type": "code",
   "execution_count": 19,
   "metadata": {},
   "outputs": [],
   "source": [
    "#D'abord, on va diviser la colonne date en plusieurs colonnes : \n",
    "\n",
    "data_transac['date'], data_transac['time'] = data_transac['date'].str.split(pat=\" \").str\n",
    "\n",
    "data_transac['year'], data_transac['month'], data_transac['day'] = data_transac['date'].str.split(pat='-').str\n",
    "\n",
    "data_transac['hour'], data_transac['minute'], data_transac['seconde'] = data_transac['time'].str.split(pat=':').str"
   ]
  },
  {
   "cell_type": "code",
   "execution_count": 20,
   "metadata": {},
   "outputs": [
    {
     "name": "stdout",
     "output_type": "stream",
     "text": [
      "l'heure minimum pour l'achat est :  00\n",
      "l'heure maximum pour l'achat est :  23\n",
      "\n",
      "\n",
      "la minute minimum pour l'achat est :  00\n",
      "la minute maximum pour l'achat est :  59\n",
      "\n",
      "\n",
      "la seconde minimum pour l'achat est :  00.000168\n",
      "la seconde maximum pour l'achat est :  59.999871\n"
     ]
    }
   ],
   "source": [
    "#Vérifions si les heures/minutes/secondes sont toutes correctes\n",
    "\n",
    "#Test if basique qui renvoie les valeurs si elles sont comprises entre 0 et 24(exclu, puisque à 23h59 on passe à 00h00)\n",
    "#On est obligé d'ajouter int() car on utilise des <>\n",
    "if int(data_transac['hour'].min()) >= 0 and int(data_transac['hour'].max())<24 :\n",
    "    print(\"l'heure minimum pour l'achat est : \",data_transac['hour'].min())\n",
    "    print(\"l'heure maximum pour l'achat est : \",data_transac['hour'].max())\n",
    "else :\n",
    "    print(\"Une (ou plusieurs) heure(s) n'est(ne sont) pas normale(s)\")\n",
    "    \n",
    "print('\\n')\n",
    "\n",
    "#Même chose ici\n",
    "if int(data_transac['minute'].min()) >= 0 and int(data_transac['minute'].max())<60 :\n",
    "    print(\"la minute minimum pour l'achat est : \",data_transac['minute'].min())\n",
    "    print(\"la minute maximum pour l'achat est : \",data_transac['minute'].max())\n",
    "else :\n",
    "    print(\"Une (ou plusieurs) minute(s) n'est(ne sont) pas normale(s)\")\n",
    "    \n",
    "print('\\n')\n",
    "\n",
    "#Plus difficile pour les secondes puisque l'on a aussi les micro-secondes\n",
    "#On se sert donc de int() comme avant, mais aussi de float() pour éviter le message d'erreur \n",
    "#invalid literal for int() with base 10: '00.000168'\n",
    "if int(float(data_transac['seconde'].min())) >= 0 and int(float(data_transac['seconde'].max()))<60 :\n",
    "    print(\"la seconde minimum pour l'achat est : \",data_transac['seconde'].min())\n",
    "    print(\"la seconde maximum pour l'achat est : \",data_transac['seconde'].max())\n",
    "else :\n",
    "    print(\"Une (ou plusieurs) seconde(s) n'est(ne sont) pas normale(s)\")"
   ]
  },
  {
   "cell_type": "code",
   "execution_count": 21,
   "metadata": {},
   "outputs": [
    {
     "name": "stdout",
     "output_type": "stream",
     "text": [
      "D'autres valeurs que celles de la liste pour les années, 200 erreurs\n"
     ]
    }
   ],
   "source": [
    "#Vérifions si les dates sont toutes bonnes \n",
    "\n",
    "#On commence par créer une liste pour les années : \n",
    "\n",
    "annees = ['2021', '2022']\n",
    "\n",
    "result_annees = []\n",
    "\n",
    "for ligne in data_transac[\"year\"].iteritems():\n",
    "    if ligne[1] in annees:\n",
    "        data_annees = 0\n",
    "    else : \n",
    "        data_annees = 1\n",
    "    result_annees.append(data_annees)\n",
    "\n",
    "result_annees = sum(result_annees)\n",
    "\n",
    "if result_annees == 0:\n",
    "    print(\"Pas d'erreur dans les années\")\n",
    "else : \n",
    "    print(\"D'autres valeurs que celles de la liste pour les années, {} erreurs\".format(result_annees))\n",
    "    \n"
   ]
  },
  {
   "cell_type": "code",
   "execution_count": null,
   "metadata": {},
   "outputs": [],
   "source": []
  },
  {
   "cell_type": "code",
   "execution_count": 22,
   "metadata": {},
   "outputs": [
    {
     "name": "stdout",
     "output_type": "stream",
     "text": [
      "Pas d'erreur dans les mois\n"
     ]
    }
   ],
   "source": [
    "#Même chose pour les mois : \n",
    "\n",
    "mois = [\"01\", \"02\", \"03\", \"04\", \"05\", \"06\", \"07\", \"08\", \"09\", \"10\", \"11\", \"12\"] #Pas possible d'utiliser range() ici ; Les valeurs sont 01 et pas 1 (et peut-être aussi le type de variable)\n",
    "\n",
    "result_mois = []\n",
    "\n",
    "for ligne in data_transac[\"month\"].iteritems():\n",
    "    if ligne[1] in mois:\n",
    "        data_mois = 0\n",
    "    else :\n",
    "        data_mois = 1\n",
    "    result_mois.append(data_mois)\n",
    "result_mois = sum(result_mois)\n",
    "\n",
    "if result_mois == 0:\n",
    "    print(\"Pas d'erreur dans les mois\")\n",
    "else : \n",
    "    print(\"D'autres valeurs que celles de la liste pour les mois, {} erreurs\".format(result_mois))\n"
   ]
  },
  {
   "cell_type": "code",
   "execution_count": 23,
   "metadata": {},
   "outputs": [
    {
     "data": {
      "image/png": "[encoded data removed]",
      "text/plain": [
       "<Figure size 720x504 with 1 Axes>"
      ]
     },
     "metadata": {
      "needs_background": "light"
     },
     "output_type": "display_data"
    }
   ],
   "source": [
    "data_transac['day'].value_counts().plot(kind='bar', figsize=(10,7))\n",
    "plt.title('Nombre de ventes par jour')\n",
    "plt.xlabel('Jour')\n",
    "plt.ylabel('Nombre de ventes')\n",
    "plt.xticks(rotation = 'horizontal')\n",
    "plt.yticks(rotation = 'horizontal')\n",
    "plt.savefig('Graphiques/nombre_de_ventes_par_jour.png')\n",
    "plt.show()\n",
    "\n",
    "# Pour pousser l'analyse plus loin on pourrait regarder si les 29, 30, 31 correspondent bien aux bons mois (ex : Pas de 31 en février)"
   ]
  },
  {
   "cell_type": "markdown",
   "metadata": {},
   "source": [
    "### Traitement de la valeur aberrante "
   ]
  },
  {
   "cell_type": "code",
   "execution_count": 24,
   "metadata": {},
   "outputs": [
    {
     "data": {
      "image/png": "[encoded data removed]",
      "text/plain": [
       "<Figure size 432x288 with 1 Axes>"
      ]
     },
     "metadata": {
      "needs_background": "light"
     },
     "output_type": "display_data"
    }
   ],
   "source": [
    "data_transac['year'].value_counts().plot(kind='bar')\n",
    "plt.savefig('Graphiques/annee_valeur_aberrante.png')\n",
    "plt.show()"
   ]
  },
  {
   "cell_type": "code",
   "execution_count": 25,
   "metadata": {},
   "outputs": [
    {
     "data": {
      "text/html": [
       "<div>\n",
       "<style scoped>\n",
       "    .dataframe tbody tr th:only-of-type {\n",
       "        vertical-align: middle;\n",
       "    }\n",
       "\n",
       "    .dataframe tbody tr th {\n",
       "        vertical-align: top;\n",
       "    }\n",
       "\n",
       "    .dataframe thead th {\n",
       "        text-align: right;\n",
       "    }\n",
       "</style>\n",
       "<table border=\"1\" class=\"dataframe\">\n",
       "  <thead>\n",
       "    <tr style=\"text-align: right;\">\n",
       "      <th></th>\n",
       "      <th>id_prod</th>\n",
       "      <th>date</th>\n",
       "      <th>session_id</th>\n",
       "      <th>client_id</th>\n",
       "      <th>time</th>\n",
       "      <th>year</th>\n",
       "      <th>month</th>\n",
       "      <th>day</th>\n",
       "      <th>hour</th>\n",
       "      <th>minute</th>\n",
       "      <th>seconde</th>\n",
       "    </tr>\n",
       "  </thead>\n",
       "  <tbody>\n",
       "    <tr>\n",
       "      <th>1431</th>\n",
       "      <td>T_0</td>\n",
       "      <td>test_2021-03-01</td>\n",
       "      <td>s_0</td>\n",
       "      <td>ct_1</td>\n",
       "      <td>02:30:02.237420</td>\n",
       "      <td>test_2021</td>\n",
       "      <td>03</td>\n",
       "      <td>01</td>\n",
       "      <td>02</td>\n",
       "      <td>30</td>\n",
       "      <td>02.237420</td>\n",
       "    </tr>\n",
       "    <tr>\n",
       "      <th>2365</th>\n",
       "      <td>T_0</td>\n",
       "      <td>test_2021-03-01</td>\n",
       "      <td>s_0</td>\n",
       "      <td>ct_1</td>\n",
       "      <td>02:30:02.237446</td>\n",
       "      <td>test_2021</td>\n",
       "      <td>03</td>\n",
       "      <td>01</td>\n",
       "      <td>02</td>\n",
       "      <td>30</td>\n",
       "      <td>02.237446</td>\n",
       "    </tr>\n",
       "    <tr>\n",
       "      <th>2895</th>\n",
       "      <td>T_0</td>\n",
       "      <td>test_2021-03-01</td>\n",
       "      <td>s_0</td>\n",
       "      <td>ct_1</td>\n",
       "      <td>02:30:02.237414</td>\n",
       "      <td>test_2021</td>\n",
       "      <td>03</td>\n",
       "      <td>01</td>\n",
       "      <td>02</td>\n",
       "      <td>30</td>\n",
       "      <td>02.237414</td>\n",
       "    </tr>\n",
       "    <tr>\n",
       "      <th>5955</th>\n",
       "      <td>T_0</td>\n",
       "      <td>test_2021-03-01</td>\n",
       "      <td>s_0</td>\n",
       "      <td>ct_0</td>\n",
       "      <td>02:30:02.237441</td>\n",
       "      <td>test_2021</td>\n",
       "      <td>03</td>\n",
       "      <td>01</td>\n",
       "      <td>02</td>\n",
       "      <td>30</td>\n",
       "      <td>02.237441</td>\n",
       "    </tr>\n",
       "    <tr>\n",
       "      <th>7283</th>\n",
       "      <td>T_0</td>\n",
       "      <td>test_2021-03-01</td>\n",
       "      <td>s_0</td>\n",
       "      <td>ct_1</td>\n",
       "      <td>02:30:02.237434</td>\n",
       "      <td>test_2021</td>\n",
       "      <td>03</td>\n",
       "      <td>01</td>\n",
       "      <td>02</td>\n",
       "      <td>30</td>\n",
       "      <td>02.237434</td>\n",
       "    </tr>\n",
       "  </tbody>\n",
       "</table>\n",
       "</div>"
      ],
      "text/plain": [
       "     id_prod             date session_id client_id             time  \\\n",
       "1431     T_0  test_2021-03-01        s_0      ct_1  02:30:02.237420   \n",
       "2365     T_0  test_2021-03-01        s_0      ct_1  02:30:02.237446   \n",
       "2895     T_0  test_2021-03-01        s_0      ct_1  02:30:02.237414   \n",
       "5955     T_0  test_2021-03-01        s_0      ct_0  02:30:02.237441   \n",
       "7283     T_0  test_2021-03-01        s_0      ct_1  02:30:02.237434   \n",
       "\n",
       "           year month day hour minute    seconde  \n",
       "1431  test_2021    03  01   02     30  02.237420  \n",
       "2365  test_2021    03  01   02     30  02.237446  \n",
       "2895  test_2021    03  01   02     30  02.237414  \n",
       "5955  test_2021    03  01   02     30  02.237441  \n",
       "7283  test_2021    03  01   02     30  02.237434  "
      ]
     },
     "execution_count": 25,
     "metadata": {},
     "output_type": "execute_result"
    }
   ],
   "source": [
    "test = data_transac[data_transac['year'] == \"test_2021\"]\n",
    "test.head()"
   ]
  },
  {
   "cell_type": "code",
   "execution_count": 26,
   "metadata": {},
   "outputs": [
    {
     "name": "stdout",
     "output_type": "stream",
     "text": [
      "L'id de prod est bien uniquement un id de test\n",
      "\n",
      "\n",
      "Le client_id est donc bien uniquement un client_id de test\n",
      "\n",
      "\n",
      "Le session_id est donc bien un session_id de test\n",
      "\n",
      "\n",
      "On peut donc enlever ces lignes du df, car elles ne sont pas représentatives.\n"
     ]
    }
   ],
   "source": [
    "#Il s'agit ici d'un test effectué, voir si l'id client, session, et prod correspondent bien \n",
    "#Uniquement à un test ou bien sont affectés à un client réel\n",
    "\n",
    "verif_idprod = data_transac[data_transac['id_prod'] == 'T_0']\n",
    "verif_idprod = verif_idprod[verif_idprod['year'] != 'test_2021']\n",
    "#DF vide\n",
    "print(\"L'id de prod est bien uniquement un id de test\")\n",
    "\n",
    "print('\\n')\n",
    "\n",
    "verif_clientid = data_transac[data_transac['client_id'] == \"ct_1\"]\n",
    "verif_clientid= verif_clientid[verif_clientid['year'] != 'test_2021']\n",
    "#DF vide\n",
    "print('Le client_id est donc bien uniquement un client_id de test')\n",
    "\n",
    "print('\\n')\n",
    "\n",
    "verif_sessionid = data_transac[data_transac['session_id'] == \"s_0\"]\n",
    "verif_sessionid= verif_sessionid[verif_sessionid['year'] != 'test_2021']\n",
    "#DF vide\n",
    "print('Le session_id est donc bien un session_id de test')\n",
    "\n",
    "print('\\n')\n",
    "\n",
    "print('On peut donc enlever ces lignes du df, car elles ne sont pas représentatives.')"
   ]
  },
  {
   "cell_type": "code",
   "execution_count": 27,
   "metadata": {},
   "outputs": [],
   "source": [
    "data_transac = data_transac[data_transac['year'] != \"test_2021\"]"
   ]
  },
  {
   "cell_type": "markdown",
   "metadata": {},
   "source": [
    "Produits sans fiche : "
   ]
  },
  {
   "cell_type": "code",
   "execution_count": 28,
   "metadata": {},
   "outputs": [
    {
     "data": {
      "text/html": [
       "<div>\n",
       "<style scoped>\n",
       "    .dataframe tbody tr th:only-of-type {\n",
       "        vertical-align: middle;\n",
       "    }\n",
       "\n",
       "    .dataframe tbody tr th {\n",
       "        vertical-align: top;\n",
       "    }\n",
       "\n",
       "    .dataframe thead th {\n",
       "        text-align: right;\n",
       "    }\n",
       "</style>\n",
       "<table border=\"1\" class=\"dataframe\">\n",
       "  <thead>\n",
       "    <tr style=\"text-align: right;\">\n",
       "      <th></th>\n",
       "      <th>id_prod</th>\n",
       "      <th>date</th>\n",
       "      <th>session_id</th>\n",
       "      <th>client_id</th>\n",
       "      <th>time</th>\n",
       "      <th>year</th>\n",
       "      <th>month</th>\n",
       "      <th>day</th>\n",
       "      <th>hour</th>\n",
       "      <th>minute</th>\n",
       "      <th>seconde</th>\n",
       "      <th>price</th>\n",
       "      <th>categ</th>\n",
       "    </tr>\n",
       "  </thead>\n",
       "  <tbody>\n",
       "    <tr>\n",
       "      <th>6231</th>\n",
       "      <td>0_2245</td>\n",
       "      <td>2021-06-17</td>\n",
       "      <td>s_49705</td>\n",
       "      <td>c_1533</td>\n",
       "      <td>03:03:12.668129</td>\n",
       "      <td>2021</td>\n",
       "      <td>06</td>\n",
       "      <td>17</td>\n",
       "      <td>03</td>\n",
       "      <td>03</td>\n",
       "      <td>12.668129</td>\n",
       "      <td>NaN</td>\n",
       "      <td>NaN</td>\n",
       "    </tr>\n",
       "    <tr>\n",
       "      <th>10797</th>\n",
       "      <td>0_2245</td>\n",
       "      <td>2021-06-16</td>\n",
       "      <td>s_49323</td>\n",
       "      <td>c_7954</td>\n",
       "      <td>05:53:01.627491</td>\n",
       "      <td>2021</td>\n",
       "      <td>06</td>\n",
       "      <td>16</td>\n",
       "      <td>05</td>\n",
       "      <td>53</td>\n",
       "      <td>01.627491</td>\n",
       "      <td>NaN</td>\n",
       "      <td>NaN</td>\n",
       "    </tr>\n",
       "    <tr>\n",
       "      <th>14045</th>\n",
       "      <td>0_2245</td>\n",
       "      <td>2021-11-24</td>\n",
       "      <td>s_124474</td>\n",
       "      <td>c_5120</td>\n",
       "      <td>17:35:59.911427</td>\n",
       "      <td>2021</td>\n",
       "      <td>11</td>\n",
       "      <td>24</td>\n",
       "      <td>17</td>\n",
       "      <td>35</td>\n",
       "      <td>59.911427</td>\n",
       "      <td>NaN</td>\n",
       "      <td>NaN</td>\n",
       "    </tr>\n",
       "    <tr>\n",
       "      <th>17480</th>\n",
       "      <td>0_2245</td>\n",
       "      <td>2022-02-28</td>\n",
       "      <td>s_172304</td>\n",
       "      <td>c_4964</td>\n",
       "      <td>18:08:49.875709</td>\n",
       "      <td>2022</td>\n",
       "      <td>02</td>\n",
       "      <td>28</td>\n",
       "      <td>18</td>\n",
       "      <td>08</td>\n",
       "      <td>49.875709</td>\n",
       "      <td>NaN</td>\n",
       "      <td>NaN</td>\n",
       "    </tr>\n",
       "    <tr>\n",
       "      <th>21071</th>\n",
       "      <td>0_2245</td>\n",
       "      <td>2021-03-01</td>\n",
       "      <td>s_3</td>\n",
       "      <td>c_580</td>\n",
       "      <td>00:09:29.301897</td>\n",
       "      <td>2021</td>\n",
       "      <td>03</td>\n",
       "      <td>01</td>\n",
       "      <td>00</td>\n",
       "      <td>09</td>\n",
       "      <td>29.301897</td>\n",
       "      <td>NaN</td>\n",
       "      <td>NaN</td>\n",
       "    </tr>\n",
       "  </tbody>\n",
       "</table>\n",
       "</div>"
      ],
      "text/plain": [
       "      id_prod        date session_id client_id             time  year month  \\\n",
       "6231   0_2245  2021-06-17    s_49705    c_1533  03:03:12.668129  2021    06   \n",
       "10797  0_2245  2021-06-16    s_49323    c_7954  05:53:01.627491  2021    06   \n",
       "14045  0_2245  2021-11-24   s_124474    c_5120  17:35:59.911427  2021    11   \n",
       "17480  0_2245  2022-02-28   s_172304    c_4964  18:08:49.875709  2022    02   \n",
       "21071  0_2245  2021-03-01        s_3     c_580  00:09:29.301897  2021    03   \n",
       "\n",
       "      day hour minute    seconde  price  categ  \n",
       "6231   17   03     03  12.668129    NaN    NaN  \n",
       "10797  16   05     53  01.627491    NaN    NaN  \n",
       "14045  24   17     35  59.911427    NaN    NaN  \n",
       "17480  28   18     08  49.875709    NaN    NaN  \n",
       "21071  01   00     09  29.301897    NaN    NaN  "
      ]
     },
     "execution_count": 28,
     "metadata": {},
     "output_type": "execute_result"
    }
   ],
   "source": [
    "#Regardons maintenant si des produits sont sans fiche : \n",
    "session_id = pd.merge(data_transac, data_prod, left_on=\"id_prod\", right_on=\"id_prod\", how='left')\n",
    "\n",
    "session_id[pd.isna(session_id['price'])].head()\n",
    "\n",
    "#Il faudra en tenir compte lors des corrélations."
   ]
  },
  {
   "cell_type": "code",
   "execution_count": 29,
   "metadata": {},
   "outputs": [
    {
     "name": "stdout",
     "output_type": "stream",
     "text": [
      "True\n",
      "True\n"
     ]
    }
   ],
   "source": [
    "session_id['first_id_prod'], session_id['last_id_prod'] = session_id['id_prod'].str.split(pat=\"_\").str\n",
    "\n",
    "session_id = session_id[pd.isna(session_id['price'])]\n",
    "\n",
    "print(all(session_id.first_id_prod == '0'))\n",
    "print(all(session_id.id_prod == '0_2245'))"
   ]
  },
  {
   "cell_type": "code",
   "execution_count": 30,
   "metadata": {},
   "outputs": [],
   "source": [
    "session_id[\"categ\"] = \"0\"\n",
    "\n",
    "data_prod_0 = data_prod[data_prod.categ == 0]\n",
    "\n",
    "session_id[\"price\"] = data_prod_0.mean()[1]\n",
    "\n",
    "new_product = session_id[[\"id_prod\", \"price\", \"categ\"]]\n",
    "\n",
    "new_product = new_product[0:1]"
   ]
  },
  {
   "cell_type": "code",
   "execution_count": 31,
   "metadata": {},
   "outputs": [],
   "source": [
    "data_prod = data_prod.append(new_product)"
   ]
  },
  {
   "cell_type": "markdown",
   "metadata": {},
   "source": [
    "# Fichiers nettoyés"
   ]
  },
  {
   "cell_type": "code",
   "execution_count": 32,
   "metadata": {},
   "outputs": [],
   "source": [
    "#Data_cust\n",
    "data_cust.to_csv(\"customers_cleaned.csv\", index = False)"
   ]
  },
  {
   "cell_type": "code",
   "execution_count": 33,
   "metadata": {},
   "outputs": [],
   "source": [
    "#Data_prod\n",
    "data_prod.to_csv(\"products_cleaned.csv\", index = False)"
   ]
  },
  {
   "cell_type": "code",
   "execution_count": 34,
   "metadata": {},
   "outputs": [],
   "source": [
    "#Data_transac\n",
    "data_transac.to_csv(\"transactions_cleaned.csv\", index = False)"
   ]
  },
  {
   "cell_type": "code",
   "execution_count": null,
   "metadata": {},
   "outputs": [],
   "source": []
  }
 ],
 "metadata": {
  "kernelspec": {
   "display_name": "Python 3",
   "language": "python",
   "name": "python3"
  },
  "language_info": {
   "codemirror_mode": {
    "name": "ipython",
    "version": 3
   },
   "file_extension": ".py",
   "mimetype": "text/x-python",
   "name": "python",
   "nbconvert_exporter": "python",
   "pygments_lexer": "ipython3",
   "version": "3.7.1"
  },
  "toc": {
   "base_numbering": 1,
   "nav_menu": {},
   "number_sections": true,
   "sideBar": true,
   "skip_h1_title": false,
   "title_cell": "Table of Contents",
   "title_sidebar": "Contents",
   "toc_cell": false,
   "toc_position": {
    "height": "calc(100% - 180px)",
    "left": "10px",
    "top": "150px",
    "width": "256px"
   },
   "toc_section_display": true,
   "toc_window_display": false
  }
 },
 "nbformat": 4,
 "nbformat_minor": 2
}
