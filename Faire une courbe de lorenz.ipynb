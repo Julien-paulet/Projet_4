{
 "cells": [
  {
   "cell_type": "code",
   "execution_count": 1,
   "metadata": {},
   "outputs": [],
   "source": [
    "#-*- coding: utf-8 -*\n",
    "\n",
    "import numpy as np\n",
    "import pandas as pd\n",
    "import matplotlib.pyplot as plt\n",
    "from datetime import datetime"
   ]
  },
  {
   "cell_type": "code",
   "execution_count": 2,
   "metadata": {},
   "outputs": [
    {
     "data": {
      "text/plain": [
       "array([ 12,   4,  12,   9,   9,   4,  10,  17,  12,  15,  11,   8,  12,\n",
       "         9,  15,   5,   9,   9,   8,   9,  10,  10,  13,   3,   7,  13,\n",
       "         7,  10,  11,  12,   5,   8,   6,   9,   8,  10,   3,  12,  10,\n",
       "        10, 128, 102,  98,  98, 101,  84,  98, 115, 109,  92])"
      ]
     },
     "execution_count": 2,
     "metadata": {},
     "output_type": "execute_result"
    }
   ],
   "source": [
    "X = np.append(np.random.poisson(lam=10, size=40), \n",
    "              np.random.poisson(lam=100, size=10))\n",
    "X\n"
   ]
  },
  {
   "cell_type": "code",
   "execution_count": 3,
   "metadata": {},
   "outputs": [],
   "source": [
    "def gini(arr):\n",
    "    ## first sort\n",
    "    sorted_arr = arr.copy()\n",
    "    sorted_arr.sort()\n",
    "    n = arr.size\n",
    "    coef_ = 2. / n\n",
    "    const_ = (n + 1.) / n\n",
    "    weighted_sum = sum([(i+1)*yi for i, yi in enumerate(sorted_arr)])\n",
    "    return coef_*weighted_sum/(sorted_arr.sum()) - const_\n"
   ]
  },
  {
   "cell_type": "code",
   "execution_count": 4,
   "metadata": {},
   "outputs": [
    {
     "data": {
      "text/plain": [
       "0.5809707351891507"
      ]
     },
     "execution_count": 4,
     "metadata": {},
     "output_type": "execute_result"
    }
   ],
   "source": [
    "gini(X)\n"
   ]
  },
  {
   "cell_type": "code",
   "execution_count": 9,
   "metadata": {},
   "outputs": [
    {
     "data": {
      "text/plain": [
       "array([0.        , 0.00856531, 0.01142041, 0.01998572, 0.02640971,\n",
       "       0.03283369, 0.03568879, 0.04282655, 0.05496074, 0.06352605,\n",
       "       0.07423269, 0.08208423, 0.08779443, 0.09635974, 0.10278373,\n",
       "       0.11349036, 0.11705924, 0.12348323, 0.12990721, 0.13561742,\n",
       "       0.1420414 , 0.14917916, 0.15631692, 0.165596  , 0.16773733,\n",
       "       0.17273376, 0.18201285, 0.18700928, 0.19414704, 0.20199857,\n",
       "       0.21056388, 0.21413276, 0.21984297, 0.22412562, 0.23054961,\n",
       "       0.23625981, 0.24339757, 0.2455389 , 0.25410421, 0.26124197,\n",
       "       0.26837973, 0.35974304, 0.43254818, 0.50249822, 0.57244825,\n",
       "       0.64453961, 0.70449679, 0.77444682, 0.85653105, 0.93433262,\n",
       "       1.        ])"
      ]
     },
     "execution_count": 9,
     "metadata": {},
     "output_type": "execute_result"
    }
   ],
   "source": [
    "X_lorenz = X.cumsum() / X.sum()\n",
    "X_lorenz = np.insert(X_lorenz, 0, 0)\n",
    "#X_lorenz[0], X_lorenz[-1]\n",
    "X_lorenz"
   ]
  },
  {
   "cell_type": "code",
   "execution_count": 6,
   "metadata": {},
   "outputs": [
    {
     "data": {
      "text/plain": [
       "[<matplotlib.lines.Line2D at 0x11f795470>]"
      ]
     },
     "execution_count": 6,
     "metadata": {},
     "output_type": "execute_result"
    },
    {
     "data": {
      "image/png": "[encoded data removed]",
      "text/plain": [
       "<Figure size 432x432 with 1 Axes>"
      ]
     },
     "metadata": {
      "needs_background": "light"
     },
     "output_type": "display_data"
    }
   ],
   "source": [
    "fig, ax = plt.subplots(figsize=[6,6])\n",
    "## scatter plot of Lorenz curve\n",
    "ax.scatter(np.arange(X_lorenz.size)/(X_lorenz.size-1), X_lorenz, \n",
    "           marker='x', color='darkgreen', s=100)\n",
    "## line plot of equality\n",
    "ax.plot([0,1], [0,1], color='k')\n"
   ]
  },
  {
   "cell_type": "code",
   "execution_count": null,
   "metadata": {},
   "outputs": [],
   "source": []
  },
  {
   "cell_type": "code",
   "execution_count": null,
   "metadata": {},
   "outputs": [],
   "source": []
  }
 ],
 "metadata": {
  "kernelspec": {
   "display_name": "Python 3",
   "language": "python",
   "name": "python3"
  },
  "language_info": {
   "codemirror_mode": {
    "name": "ipython",
    "version": 3
   },
   "file_extension": ".py",
   "mimetype": "text/x-python",
   "name": "python",
   "nbconvert_exporter": "python",
   "pygments_lexer": "ipython3",
   "version": "3.7.1"
  }
 },
 "nbformat": 4,
 "nbformat_minor": 2
}
