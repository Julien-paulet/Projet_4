{
 "cells": [
  {
   "cell_type": "code",
   "execution_count": 1,
   "metadata": {},
   "outputs": [],
   "source": [
    "#-*- coding: utf-8 -*\n",
    "\n",
    "import numpy as np\n",
    "import pandas as pd\n",
    "import matplotlib.pyplot as plt"
   ]
  },
  {
   "cell_type": "code",
   "execution_count": 2,
   "metadata": {},
   "outputs": [
    {
     "name": "stdout",
     "output_type": "stream",
     "text": [
      "    Heures  id_ventes\n",
      "0        1          3\n",
      "1        2         12\n",
      "2        2         35\n",
      "3        3         65\n",
      "4        4         20\n",
      "5        5         65\n",
      "6        5         50\n",
      "7        6         50\n",
      "8        7         50\n",
      "9        7         50\n",
      "10       1         50\n"
     ]
    },
    {
     "data": {
      "image/png": "[encoded data removed]",
      "text/plain": [
       "<Figure size 432x288 with 1 Axes>"
      ]
     },
     "metadata": {
      "needs_background": "light"
     },
     "output_type": "display_data"
    }
   ],
   "source": [
    "test = [[1, 3],[2, 12], [2, 35],[3, 65], [4, 20], [5, 65], [5, 50], [6, 50], [7, 50], [7, 50], [1, 50]]\n",
    "test = pd.DataFrame(test, columns=['Heures', 'id_ventes'])\n",
    "print(test)\n",
    "plt.plot(test['Heures'].value_counts().cumsum(), color='r')\n",
    "plt.xticks(test['Heures'][0:10])\n",
    "plt.show()"
   ]
  },
  {
   "cell_type": "code",
   "execution_count": null,
   "metadata": {},
   "outputs": [],
   "source": []
  }
 ],
 "metadata": {
  "kernelspec": {
   "display_name": "Python 3",
   "language": "python",
   "name": "python3"
  },
  "language_info": {
   "codemirror_mode": {
    "name": "ipython",
    "version": 3
   },
   "file_extension": ".py",
   "mimetype": "text/x-python",
   "name": "python",
   "nbconvert_exporter": "python",
   "pygments_lexer": "ipython3",
   "version": "3.7.0"
  }
 },
 "nbformat": 4,
 "nbformat_minor": 2
}
